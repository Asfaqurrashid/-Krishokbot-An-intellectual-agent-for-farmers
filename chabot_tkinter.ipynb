{
 "cells": [
  {
   "cell_type": "code",
   "execution_count": 1,
   "id": "a0181430",
   "metadata": {},
   "outputs": [],
   "source": [
    "import tkinter\n",
    "from tkinter import *\n",
    "import import_ipynb\n",
    "import chatbot_response"
   ]
  },
  {
   "cell_type": "code",
   "execution_count": 2,
   "id": "26d75369",
   "metadata": {},
   "outputs": [],
   "source": [
    "def send():\n",
    "    msg = str(EntryBox.get(\"1.0\", 'end - 1c').strip())\n",
    "    EntryBox.delete(\"0.0\", END)\n",
    "    if msg != '':\n",
    "        Chatlog.config(state = NORMAL)\n",
    "        Chatlog.insert(END, \"You: \" + msg + '\\n\\n')\n",
    "        Chatlog.config(foreground = \"#442265\", font = (\"Verdana\", 12 ))\n",
    "        res = str(chatbot_response.chatbot_response(msg))\n",
    "        Chatlog.insert(END, \"Bot: \" + res + '\\n\\n')\n",
    "        Chatlog.config(state = DISABLED)\n",
    "        Chatlog.yview(END)"
   ]
  },
  {
   "cell_type": "code",
   "execution_count": 3,
   "id": "d6ebc4af",
   "metadata": {},
   "outputs": [
    {
     "data": {
      "text/plain": [
       "''"
      ]
     },
     "execution_count": 3,
     "metadata": {},
     "output_type": "execute_result"
    }
   ],
   "source": [
    "base = Tk()\n",
    "base.title(\"Chatbot\")\n",
    "base.geometry(\"400x500\")\n",
    "base.resizable(width = False, height = False)"
   ]
  },
  {
   "cell_type": "code",
   "execution_count": 4,
   "id": "f2284cd7",
   "metadata": {},
   "outputs": [],
   "source": [
    "Chatlog = Text(base, bd = 0, bg = \"white\", height = \"8\", width = \"50\", font = \"Arial\")\n",
    "Chatlog.config(state = DISABLED)"
   ]
  },
  {
   "cell_type": "code",
   "execution_count": 5,
   "id": "9c6ffd62",
   "metadata": {},
   "outputs": [],
   "source": [
    "scrollbar = Scrollbar(base, command = Chatlog.yview, cursor = \"heart\")\n",
    "Chatlog['yscrollcommand'] = scrollbar.set"
   ]
  },
  {
   "cell_type": "code",
   "execution_count": 6,
   "id": "0731c41b",
   "metadata": {},
   "outputs": [],
   "source": [
    "sendButton = Button(base, font = (\"Verdana\", 12, 'bold'), text = \"Send\", width = 12, height = 5, bd = 0, bg = \"#32de97\", activebackground = \"#3c9d9b\", fg = \"#ffffff\", command = send)"
   ]
  },
  {
   "cell_type": "code",
   "execution_count": 7,
   "id": "43889ba8",
   "metadata": {},
   "outputs": [],
   "source": [
    "EntryBox = Text(base, bd = 0, bg = \"white\", width = \"29\", height = \"5\", font = \"Arial\")"
   ]
  },
  {
   "cell_type": "code",
   "execution_count": 8,
   "id": "6f15d58f",
   "metadata": {},
   "outputs": [],
   "source": [
    "scrollbar.place(x = 376, y = 6, height = 386)\n",
    "Chatlog.place(x = 6, y = 6, height = 386, width = 370)\n",
    "EntryBox.place(x = 128, y = 401, height = 90, width = 265)\n",
    "sendButton.place(x = 6, y = 401, height = 90)"
   ]
  },
  {
   "cell_type": "code",
   "execution_count": 9,
   "id": "5871d244",
   "metadata": {},
   "outputs": [],
   "source": [
    "base.mainloop()"
   ]
  },
  {
   "cell_type": "code",
   "execution_count": null,
   "id": "cfb08540",
   "metadata": {},
   "outputs": [],
   "source": []
  },
  {
   "cell_type": "code",
   "execution_count": null,
   "id": "34bf656a",
   "metadata": {},
   "outputs": [],
   "source": []
  }
 ],
 "metadata": {
  "kernelspec": {
   "display_name": "Python 3 (ipykernel)",
   "language": "python",
   "name": "python3"
  },
  "language_info": {
   "codemirror_mode": {
    "name": "ipython",
    "version": 3
   },
   "file_extension": ".py",
   "mimetype": "text/x-python",
   "name": "python",
   "nbconvert_exporter": "python",
   "pygments_lexer": "ipython3",
   "version": "3.7.11"
  }
 },
 "nbformat": 4,
 "nbformat_minor": 5
}
