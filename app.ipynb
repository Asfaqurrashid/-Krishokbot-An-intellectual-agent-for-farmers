{
 "cells": [
  {
   "cell_type": "code",
   "execution_count": 1,
   "id": "01b46915",
   "metadata": {},
   "outputs": [],
   "source": [
    "from flask import Flask, render_template, jsonify, request\n",
    "import import_ipynb\n",
    "import chatbot_response"
   ]
  },
  {
   "cell_type": "code",
   "execution_count": null,
   "id": "bc0db8c7",
   "metadata": {},
   "outputs": [
    {
     "name": "stdout",
     "output_type": "stream",
     "text": [
      " * Serving Flask app '__main__' (lazy loading)\n",
      " * Environment: production\n",
      "\u001b[31m   WARNING: This is a development server. Do not use it in a production deployment.\u001b[0m\n",
      "\u001b[2m   Use a production WSGI server instead.\u001b[0m\n",
      " * Debug mode: off\n"
     ]
    },
    {
     "name": "stderr",
     "output_type": "stream",
     "text": [
      " * Running on http://127.0.0.1:5000/ (Press CTRL+C to quit)\n",
      "127.0.0.1 - - [03/Jan/2022 13:21:25] \"GET / HTTP/1.1\" 200 -\n",
      "127.0.0.1 - - [03/Jan/2022 13:21:26] \"GET /static/jquery.min.js HTTP/1.1\" 304 -\n",
      "127.0.0.1 - - [03/Jan/2022 13:21:26] \"GET /favicon.ico HTTP/1.1\" 404 -\n",
      "127.0.0.1 - - [03/Jan/2022 13:21:41] \"POST /chatbot HTTP/1.1\" 200 -\n",
      "127.0.0.1 - - [03/Jan/2022 13:22:01] \"POST /chatbot HTTP/1.1\" 200 -\n",
      "127.0.0.1 - - [03/Jan/2022 13:22:16] \"POST /chatbot HTTP/1.1\" 200 -\n"
     ]
    }
   ],
   "source": [
    "app = Flask(__name__)\n",
    "\n",
    "@app.route('/', methods=[\"GET\", \"POST\"])\n",
    "def index():\n",
    "    return render_template('index.html', **locals())\n",
    "\n",
    "@app.route('/chatbot', methods=[\"GET\", \"POST\"])\n",
    "def chatbotResponse():\n",
    "\n",
    "    if request.method == 'POST':\n",
    "        the_question = request.form['question']\n",
    "\n",
    "        response = chatbot_response.chatbot_response(the_question)\n",
    "\n",
    "    return jsonify({\"response\": response })\n",
    "\n",
    "if __name__ == '__main__':\n",
    "    app.run()"
   ]
  },
  {
   "cell_type": "code",
   "execution_count": null,
   "id": "1c34d022",
   "metadata": {},
   "outputs": [],
   "source": []
  }
 ],
 "metadata": {
  "kernelspec": {
   "display_name": "Python 3 (ipykernel)",
   "language": "python",
   "name": "python3"
  },
  "language_info": {
   "codemirror_mode": {
    "name": "ipython",
    "version": 3
   },
   "file_extension": ".py",
   "mimetype": "text/x-python",
   "name": "python",
   "nbconvert_exporter": "python",
   "pygments_lexer": "ipython3",
   "version": "3.7.11"
  }
 },
 "nbformat": 4,
 "nbformat_minor": 5
}
