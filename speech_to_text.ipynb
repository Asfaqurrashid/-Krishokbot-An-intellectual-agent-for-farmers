{
 "cells": [
  {
   "cell_type": "code",
   "execution_count": 176,
   "id": "e8f6ffa5",
   "metadata": {},
   "outputs": [],
   "source": [
    "import speech_recognition as sr\n",
    "import import_ipynb\n",
    "import chatbot_response"
   ]
  },
  {
   "cell_type": "code",
   "execution_count": 177,
   "id": "48ec4840",
   "metadata": {},
   "outputs": [],
   "source": [
    "r = sr.Recognizer()"
   ]
  },
  {
   "cell_type": "code",
   "execution_count": 178,
   "id": "b0c86d68",
   "metadata": {},
   "outputs": [
    {
     "name": "stdout",
     "output_type": "stream",
     "text": [
      "Talk\n",
      "Time over thanks\n"
     ]
    }
   ],
   "source": [
    "with sr.Microphone() as source:\n",
    "    print(\"Talk\")\n",
    "    audio_data = r.listen(source)\n",
    "    print(\"Time over thanks\")\n",
    "    try:\n",
    "        msg = r.recognize_google(audio_data, language = \"bn-BD\")\n",
    "    except:\n",
    "        print(\"Sorry i didn't get it\")"
   ]
  },
  {
   "cell_type": "code",
   "execution_count": 179,
   "id": "76dcc359",
   "metadata": {},
   "outputs": [],
   "source": [
    "from googletrans import Translator"
   ]
  },
  {
   "cell_type": "code",
   "execution_count": 180,
   "id": "b4c90f86",
   "metadata": {},
   "outputs": [],
   "source": [
    "translator = Translator()"
   ]
  },
  {
   "cell_type": "code",
   "execution_count": 181,
   "id": "773d8486",
   "metadata": {},
   "outputs": [
    {
     "name": "stdout",
     "output_type": "stream",
     "text": [
      "Paddy tree leaves\n"
     ]
    }
   ],
   "source": [
    "translation = translator.translate(msg, dest = \"en\")\n",
    "print(translation.text)"
   ]
  },
  {
   "cell_type": "code",
   "execution_count": 182,
   "id": "c9be4ff4",
   "metadata": {},
   "outputs": [],
   "source": [
    "res = str(chatbot_response.chatbot_response(translation.text))"
   ]
  },
  {
   "cell_type": "code",
   "execution_count": 183,
   "id": "e5b760d6",
   "metadata": {},
   "outputs": [],
   "source": [
    "translation = translator.translate(res, dest = 'bn')"
   ]
  },
  {
   "cell_type": "code",
   "execution_count": 184,
   "id": "053415d8",
   "metadata": {},
   "outputs": [],
   "source": [
    "import gtts"
   ]
  },
  {
   "cell_type": "code",
   "execution_count": 185,
   "id": "7d4203e1",
   "metadata": {},
   "outputs": [],
   "source": [
    "from playsound import playsound"
   ]
  },
  {
   "cell_type": "code",
   "execution_count": 186,
   "id": "4982f483",
   "metadata": {},
   "outputs": [],
   "source": [
    "tts = gtts.gTTS(text = translation.text, lang = 'bn')"
   ]
  },
  {
   "cell_type": "code",
   "execution_count": 187,
   "id": "2316ada6",
   "metadata": {},
   "outputs": [],
   "source": [
    "tts.save(\"greet.wav\")"
   ]
  },
  {
   "cell_type": "code",
   "execution_count": null,
   "id": "915580d5",
   "metadata": {},
   "outputs": [],
   "source": [
    "playsound(\"greet.wav\")"
   ]
  },
  {
   "cell_type": "code",
   "execution_count": null,
   "id": "ae8b4210",
   "metadata": {},
   "outputs": [],
   "source": []
  }
 ],
 "metadata": {
  "kernelspec": {
   "display_name": "Python 3 (ipykernel)",
   "language": "python",
   "name": "python3"
  },
  "language_info": {
   "codemirror_mode": {
    "name": "ipython",
    "version": 3
   },
   "file_extension": ".py",
   "mimetype": "text/x-python",
   "name": "python",
   "nbconvert_exporter": "python",
   "pygments_lexer": "ipython3",
   "version": "3.7.11"
  }
 },
 "nbformat": 4,
 "nbformat_minor": 5
}
